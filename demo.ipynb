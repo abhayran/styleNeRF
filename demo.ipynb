{
 "cells": [
  {
   "cell_type": "code",
   "execution_count": null,
   "id": "ecd9fd14",
   "metadata": {},
   "outputs": [],
   "source": [
    "# monitor the training phase\n",
    "!tensorboard --logdir runs\n",
    "\n",
    "# after running this cell, go to localhost:6006 in your browser."
   ]
  },
  {
   "cell_type": "code",
   "execution_count": null,
   "id": "f379b7f6",
   "metadata": {},
   "outputs": [],
   "source": [
    "# stage 1: train the geometry MLP\n",
    "!python pipeline.py --stage geometry --prefix test --suffix density --dataset_name blender --root_dir datasets/nerf_synthetic/lego --img_wh 400 400 --num_epochs_density 1 --batch_size 1024 --lr 5e-4"
   ]
  },
  {
   "cell_type": "code",
   "execution_count": null,
   "id": "e005da8a",
   "metadata": {},
   "outputs": [],
   "source": [
    "# stage 2: train the style MLP with memory saving mode\n",
    "# recommended learning rates: for memory_saving and small: 1e-3, for patch: 1e-4\n",
    "!python pipeline.py --stage style --prefix test --suffix style --style_dir starry_night.jpg --style_mode memory_saving --coarse_path ckpts/test_nerf_coarse_density.pt --fine_path ckpts/test_nerf_fine_density.pt --dataset_name blender --root_dir datasets/nerf_synthetic/lego --img_wh 400 400 --num_epochs_style 1 --lr 1e-3"
   ]
  },
  {
   "cell_type": "code",
   "execution_count": null,
   "id": "a5050f18",
   "metadata": {},
   "outputs": [],
   "source": [
    "# evaluation with test data\n",
    "!python eval.py --dataset_name blender --root_dir datasets/nerf_synthetic/lego --scene_name lego --img_wh 400 400 --coarse_path ckpts/test_nerf_coarse_style.pt --fine_path ckpts/test_nerf_fine_style.pt --gif_name gif"
   ]
  },
  {
   "cell_type": "code",
   "execution_count": 6,
   "id": "a776849e",
   "metadata": {},
   "outputs": [
    {
     "data": {
      "text/html": [
       "<h1><img src=\"frames_200.gif\" width=\"400\" align=\"center\"></h1>"
      ],
      "text/plain": [
       "<IPython.core.display.HTML object>"
      ]
     },
     "metadata": {},
     "output_type": "display_data"
    }
   ],
   "source": [
    "# render the saved gif\n",
    "from IPython.core.display import display, HTML\n",
    "display(HTML('<h1><img src=\"gif.gif\" width=\"400\" align=\"center\"></h1>'))"
   ]
  }
 ],
 "metadata": {
  "kernelspec": {
   "display_name": "Python 3",
   "language": "python",
   "name": "python3"
  },
  "language_info": {
   "codemirror_mode": {
    "name": "ipython",
    "version": 3
   },
   "file_extension": ".py",
   "mimetype": "text/x-python",
   "name": "python",
   "nbconvert_exporter": "python",
   "pygments_lexer": "ipython3",
   "version": "3.9.2"
  }
 },
 "nbformat": 4,
 "nbformat_minor": 5
}
