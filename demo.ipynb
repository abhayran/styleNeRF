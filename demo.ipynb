{
 "cells": [
  {
   "attachments": {},
   "cell_type": "markdown",
   "id": "c3682d44",
   "metadata": {},
   "source": [
    "## Repo demonstration for replicating the results\n",
    "\n",
    "Please make sure that you have installed packages listed in `requirements.txt`\n",
    "\n",
    "If you want to monitor training process, run `tensorboard --logdir runs`\n",
    "\n",
    "We worked with 400 x 400 images in our experiments, using a single GPU with 8GB of memory.\n",
    "\n",
    "`pipeline.py` is the main script for training which you can call by certain arguments:\n",
    "- --stage: `geometry` when learning the scene geometry, `style` when transferring the style.\n",
    "- --prefix and --suffix: trained models will be saved under `ckpts/{prefix}_nerf_coarse_{suffix}.pt` and `ckpts/{prefix}_nerf_fine_{suffix}.pt`\n",
    "- --img_wh: image resolution, `400 400` in our experiments.\n",
    "- --num_epochs_density: number of epochs when learning scene geometry, `1` in our experiments.\n",
    "- --batch_size: batch size, only relevant in the `geometry` stage, `1024` in our experiments.\n",
    "- --num_epochs_style: number of epochs when transferring the style, `1` in our experiments.\n",
    "- --style_dir: path to the styling image, one of the following options: `starry_night.jpg`, `wheat_field.jpg`, `italian_futurism.jpg`\n",
    "- --style_mode: the approach to take in style transfer stage, one of the following options: `small` (refers to simple method, takes around 5 mins), `patch` (refers to patched method, takes around 30 mins), `memory_saving` (refers to no patch method, takes around 50 mins)\n",
    "- --coarse_path and --fine_path: when transferring the style, path to coarse and fine density models learned in Stage 1\n",
    "- --lr: learning rate, in our experiments `5e-4` for `geometry` stage, `1e-3` for `style` stage with `small` or `memory_saving` mode, `1e-4` for `patch` mode"
   ]
  },
  {
   "cell_type": "code",
   "execution_count": 2,
   "id": "f379b7f6",
   "metadata": {},
   "outputs": [
    {
     "name": "stdout",
     "output_type": "stream",
     "text": [
      "Starting epoch 1 to learn density...\n"
     ]
    }
   ],
   "source": [
    "# Stage 1: Train the geometry MLP.\n",
    "# Estimated runtime: 1 hour\n",
    "# You can increase the batch size if you have access to more memory to speed up training.\n",
    "\n",
    "!python pipeline.py --stage geometry --prefix test --suffix density --dataset_name blender --root_dir datasets/nerf_synthetic/lego --img_wh 400 400 --num_epochs_density 1 --batch_size 1024 --lr 5e-4"
   ]
  },
  {
   "cell_type": "code",
   "execution_count": 3,
   "id": "e005da8a",
   "metadata": {},
   "outputs": [
    {
     "name": "stdout",
     "output_type": "stream",
     "text": [
      "Mode: Memory saving (No patch), Starting epoch 1 to learn style...\n"
     ]
    }
   ],
   "source": [
    "# Stage 2: Train the style MLP with the starry night image and in memory saving mode. \n",
    "# Estimated runtime: 50 mins\n",
    "\n",
    "!python pipeline.py --stage style --prefix test --suffix style --style_dir starry_night.jpg --style_mode memory_saving --coarse_path ckpts/test_nerf_coarse_density.pt --fine_path ckpts/test_nerf_fine_density.pt --dataset_name blender --root_dir datasets/nerf_synthetic/lego --img_wh 400 400 --num_epochs_style 1 --lr 1e-3"
   ]
  },
  {
   "cell_type": "code",
   "execution_count": 8,
   "id": "a5050f18",
   "metadata": {},
   "outputs": [],
   "source": [
    "%%capture\n",
    "\n",
    "# Create and save a gif out of the rendered images from 200 camera poses in test dataset under ./starry_night_memory_saving.gif\n",
    "# Estimated runtime: 1 hour\n",
    "\n",
    "!python eval.py --dataset_name blender --root_dir datasets/nerf_synthetic/lego --scene_name lego --img_wh 400 400 --coarse_path ckpts/test_nerf_coarse_style.pt --fine_path ckpts/test_nerf_fine_style.pt --gif_name starry_night_memory_saving"
   ]
  },
  {
   "cell_type": "code",
   "execution_count": 9,
   "id": "a776849e",
   "metadata": {},
   "outputs": [
    {
     "data": {
      "text/html": [
       "<h1><img src=\"starry_night_memory_saving.gif\" width=\"400\" align=\"center\"></h1>"
      ],
      "text/plain": [
       "<IPython.core.display.HTML object>"
      ]
     },
     "metadata": {},
     "output_type": "display_data"
    }
   ],
   "source": [
    "# Display the saved gif\n",
    "\n",
    "from IPython.core.display import display, HTML\n",
    "display(HTML('<h1><img src=\"starry_night_memory_saving.gif\" width=\"400\" align=\"center\"></h1>'))"
   ]
  }
 ],
 "metadata": {
  "kernelspec": {
   "display_name": "Python 3",
   "language": "python",
   "name": "python3"
  },
  "language_info": {
   "codemirror_mode": {
    "name": "ipython",
    "version": 3
   },
   "file_extension": ".py",
   "mimetype": "text/x-python",
   "name": "python",
   "nbconvert_exporter": "python",
   "pygments_lexer": "ipython3",
   "version": "3.9.2"
  }
 },
 "nbformat": 4,
 "nbformat_minor": 5
}
