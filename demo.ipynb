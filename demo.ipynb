{
 "cells": [
  {
   "cell_type": "code",
   "execution_count": null,
   "id": "f379b7f6",
   "metadata": {},
   "outputs": [],
   "source": [
    "\"\"\"\n",
    "Stage 1: Train the geometry MLP.\n",
    "\n",
    "You can monitor the training phase by the command \"tensorboard --logdir runs\"\n",
    "\n",
    "An epoch takes around 1 hour for 400 x 400 images using a single NVIDIA RTX 2070 GPU with 8GB of RAM.\n",
    "\n",
    "You can increase the batch size if you have access to more memory to speed up training.\n",
    "\"\"\"\n",
    "\n",
    "!python pipeline.py --stage geometry --prefix test --suffix density --dataset_name blender --root_dir datasets/nerf_synthetic/lego --img_wh 400 400 --num_epochs_density 1 --batch_size 1024 --lr 5e-4"
   ]
  },
  {
   "cell_type": "code",
   "execution_count": null,
   "id": "e005da8a",
   "metadata": {},
   "outputs": [],
   "source": [
    "\"\"\"\n",
    "Stage 2: Train the style MLP. \n",
    "\n",
    "Three options for the flag --style_mode:\n",
    "    - small: Work with 50 x 50 images, takes < 5 mins. Recommended lr: 1e-3\n",
    "    - patch: Work with 50 x 50 patches, takes around 30 mins. Recommended lr: 1e-4\n",
    "    - memory_saving: Work with complete images, takes around 50 mins. Recommended lr: 1e-3\n",
    "\"\"\"\n",
    "\n",
    "!python pipeline.py --stage style --prefix test --suffix style --style_dir starry_night.jpg --style_mode memory_saving --coarse_path ckpts/test_nerf_coarse_density.pt --fine_path ckpts/test_nerf_fine_density.pt --dataset_name blender --root_dir datasets/nerf_synthetic/lego --img_wh 400 400 --num_epochs_style 1 --lr 1e-3"
   ]
  },
  {
   "cell_type": "code",
   "execution_count": null,
   "id": "a5050f18",
   "metadata": {},
   "outputs": [],
   "source": [
    "# create a gif out of the rendered images from camere poses in test dataset\n",
    "\n",
    "!python eval.py --dataset_name blender --root_dir datasets/nerf_synthetic/lego --scene_name lego --img_wh 400 400 --coarse_path ckpts/test_nerf_coarse_style.pt --fine_path ckpts/test_nerf_fine_style.pt --gif_name gif"
   ]
  },
  {
   "cell_type": "code",
   "execution_count": 6,
   "id": "a776849e",
   "metadata": {},
   "outputs": [
    {
     "data": {
      "text/html": [
       "<h1><img src=\"frames_200.gif\" width=\"400\" align=\"center\"></h1>"
      ],
      "text/plain": [
       "<IPython.core.display.HTML object>"
      ]
     },
     "metadata": {},
     "output_type": "display_data"
    }
   ],
   "source": [
    "# display the saved gif\n",
    "\n",
    "from IPython.core.display import display, HTML\n",
    "display(HTML('<h1><img src=\"gif.gif\" width=\"400\" align=\"center\"></h1>'))"
   ]
  }
 ],
 "metadata": {
  "kernelspec": {
   "display_name": "Python 3",
   "language": "python",
   "name": "python3"
  },
  "language_info": {
   "codemirror_mode": {
    "name": "ipython",
    "version": 3
   },
   "file_extension": ".py",
   "mimetype": "text/x-python",
   "name": "python",
   "nbconvert_exporter": "python",
   "pygments_lexer": "ipython3",
   "version": "3.9.2"
  }
 },
 "nbformat": 4,
 "nbformat_minor": 5
}
